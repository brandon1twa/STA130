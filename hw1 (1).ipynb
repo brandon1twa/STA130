{
 "cells": [
  {
   "cell_type": "code",
   "execution_count": 6,
   "id": "7c69ae9d-34dd-4f64-938e-780514f33f18",
   "metadata": {},
   "outputs": [
    {
     "name": "stdout",
     "output_type": "stream",
     "text": [
      "(391, 11)\n",
      "            row_n\n",
      "count  391.000000\n",
      "mean   239.902813\n",
      "std    140.702672\n",
      "min      2.000000\n",
      "25%    117.500000\n",
      "50%    240.000000\n",
      "75%    363.500000\n",
      "max    483.000000\n"
     ]
    }
   ],
   "source": [
    "import pandas as pd\n",
    "url = \"https://raw.githubusercontent.com/rfordatascience/tidytuesday/master/data/2020/2020-05-05/villagers.csv\"\n",
    "df = pd.read_csv(url)\n",
    "df.isna().sum()\n",
    "#rows, columns = df.shape\n",
    "print (df.shape)\n",
    "#print(f\"The dataset contains {rows} rows and {columns} columns.\")\n",
    "summary = df.describe()\n",
    "print(summary)\n",
    "#2.2 the difference between observations and variables in the context of this dataset is that each\n",
    "# observation has variables, this means that each villager (observation) has different variables \n",
    "# (gender, name, etc) that differ. in this case each row contains an observation and each column \n",
    "# contain its variables"
   ]
  },
  {
   "cell_type": "code",
   "execution_count": null,
   "id": "09736644",
   "metadata": {},
   "outputs": [],
   "source": [
    "url = \"https://raw.githubusercontent.com/rfordatascience/tidytuesday/master/data/2020/2020-05-05/villagers.csv\"\n",
    "villagers_df = pd.read_csv(url)\n",
    "print(villagers_df.columns)"
   ]
  },
  {
   "cell_type": "code",
   "execution_count": 16,
   "id": "f619a39b-13b9-463a-8fe6-4af5072fab50",
   "metadata": {},
   "outputs": [],
   "source": [
    "#villagers_df['birthday'].value_counts()"
   ]
  },
  {
   "cell_type": "code",
   "execution_count": 11,
   "id": "80b40762-762b-4ae8-8018-8787b18b05f9",
   "metadata": {},
   "outputs": [],
   "source": [
    "url = \"https://raw.githubusercontent.com/rfordatascience/tidytuesday/master/data/2020/2020-05-05/villagers.csv\"\n",
    "df = pd.read_csv(url)\n",
    "\n",
    "pd.set_option('display.max_rows', None)\n",
    "pd.set_option('display.max_columns', None)\n",
    "villagers_df = pd.read_csv(url)\n",
    "#print(villagers_df)\n",
    "#villagers_only_df = villagers_df[villagers_df['birthday'] == 'villagers']\n",
    "#print(villagers_only_df)"
   ]
  },
  {
   "cell_type": "code",
   "execution_count": 22,
   "id": "68c913e7-d8d9-4688-adc2-ca33dd174d71",
   "metadata": {},
   "outputs": [
    {
     "name": "stdout",
     "output_type": "stream",
     "text": [
      "        count       mean        std   min   25%   50%   75%   max\n",
      "sex                                                              \n",
      "female  261.0  27.915709  14.110146  0.75  18.0  27.0  37.0  63.0\n",
      "male    453.0  30.726645  14.678201  0.42  21.0  29.0  39.0  80.0\n"
     ]
    }
   ],
   "source": [
    "url = \"https://raw.githubusercontent.com/mwaskom/seaborn-data/master/titanic.csv\"\n",
    "df = pd.read_csv(url)\n",
    "\n",
    "#print(df.shape)\n",
    "\n",
    "#print(df.describe())\n",
    "\n",
    "#print(df['sex'].value_counts())\n",
    "#print(df.columns)\n",
    "\n",
    "print((df).groupby(\"sex\")[\"age\"].describe())\n",
    "#4 using df.shape it tells us that there are 891 rows but in the column of age there are only\n",
    "# 714 entries, this could just be the result of missing data"
   ]
  },
  {
   "cell_type": "code",
   "execution_count": 19,
   "id": "07b1dad3-db5a-4b36-9d99-638c6a8e2518",
   "metadata": {},
   "outputs": [],
   "source": [
    "#5 using an attribute (df.shape) gave us only the shape of the data frame such as number\n",
    "# of rows and columns given as straight values. using a method (df.describe()) provided\n",
    "# more data for each row and also calculated the mean, standard deviation, etc. the\n",
    "# parenthesis are a way to know that the computer is doing calculations.\n",
    "\n",
    "#6 the count is the number of rows with data\n",
    "#  the mean is the average for the column from the information from each row\n",
    "#  the std (standard deviation) is the average in which the data strays from the mean\n",
    "#  the min is the minimum value in the column\n",
    "#  the 25th percentile is where 25% of the data in that column lies below that value\n",
    "#  the 50th percentile is where 50% of the data lies below that value\n",
    "#  the 75th percentile is where 75% of the data lies below that value\n",
    "#  the max is the maximum value in the column\n",
    "\n",
    "#7.1 a use case in which dropping a row over a column is when the row is missing too much \n",
    "# information in the columns such that you dont know if it is accurate to assume that it \n",
    "# is real, another could be that the row is an extreme outlier that could negatively affect\n",
    "# the accuracy of the mean or standard deviation\n",
    "#7.2 a use case where dropping a column is preffered could be when there is not enough entries\n",
    "# from different rows such that you dont know if the information accurate or not, another could\n",
    "# be that the information in that column is not useful\n",
    "#7.3 because in a row with column data missing, it could still provide valuable data for different\n",
    "# columns, deleting the column first would delete data from all the rows"
   ]
  },
  {
   "cell_type": "code",
   "execution_count": 11,
   "id": "4e487060-3832-4822-8ccd-8af61d4d7384",
   "metadata": {},
   "outputs": [
    {
     "name": "stdout",
     "output_type": "stream",
     "text": [
      "         survived      pclass         age       sibsp       parch        fare\n",
      "count  891.000000  891.000000  714.000000  891.000000  891.000000  891.000000\n",
      "mean     0.383838    2.308642   29.699118    0.523008    0.381594   32.204208\n",
      "std      0.486592    0.836071   14.526497    1.102743    0.806057   49.693429\n",
      "min      0.000000    1.000000    0.420000    0.000000    0.000000    0.000000\n",
      "25%      0.000000    2.000000   20.125000    0.000000    0.000000    7.910400\n",
      "50%      0.000000    3.000000   28.000000    0.000000    0.000000   14.454200\n",
      "75%      1.000000    3.000000   38.000000    1.000000    0.000000   31.000000\n",
      "max      1.000000    3.000000   80.000000    8.000000    6.000000  512.329200\n",
      "         survived      pclass         age       sibsp       parch        fare\n",
      "count  712.000000  712.000000  712.000000  712.000000  712.000000  712.000000\n",
      "mean     0.404494    2.240169   29.642093    0.514045    0.432584   34.567251\n",
      "std      0.491139    0.836854   14.492933    0.930692    0.854181   52.938648\n",
      "min      0.000000    1.000000    0.420000    0.000000    0.000000    0.000000\n",
      "25%      0.000000    1.000000   20.000000    0.000000    0.000000    8.050000\n",
      "50%      0.000000    2.000000   28.000000    0.000000    0.000000   15.645850\n",
      "75%      1.000000    3.000000   38.000000    1.000000    1.000000   33.000000\n",
      "max      1.000000    3.000000   80.000000    5.000000    6.000000  512.329200\n"
     ]
    }
   ],
   "source": [
    "#7.4\n",
    "url = \"https://raw.githubusercontent.com/mwaskom/seaborn-data/master/titanic.csv\"\n",
    "df = pd.read_csv(url)\n",
    "print(df.describe())\n",
    "del df['deck']\n",
    "#del df['age']\n",
    "#missing_data = df[df.isnull().any(axis=1)]\n",
    "#print(missing_data)\n",
    "df.dropna(inplace=True)\n",
    "print(df.describe())"
   ]
  },
  {
   "cell_type": "code",
   "execution_count": 21,
   "id": "0925fb53-e37f-463b-9351-7db45e78a84f",
   "metadata": {},
   "outputs": [],
   "source": [
    "#7.4 first i dropped the column 'deck' which had the most Nan answers then i \n",
    "# dropped all rows which did not provide an age, this is because the age of\n",
    "# the passengers is important data and id like to keep that, i still retained\n",
    "# most of the rows however the stats such as (mean, std) still changed slightly\n",
    "\n",
    "#8.1 df.groupby(\"col1\")[\"col2\"].describe() is a command that groups the data\n",
    "# using unique values from the columns\n",
    "#8.2 df.groupby(\"col1\")[\"col2\"].describe() would capture something different\n",
    "# because each group would only have a fraction of the total entries. the count \n",
    "# from each group should be the total number of rows\n",
    "#8.3.i its easier to use chatbot for this error as both google and chatbots\n",
    "# provided the answer however googles answer was surrounded by other commands\n",
    "# that i did not understand\n",
    "#8.3.ii its easier to use a chatbot for this error google said that there are \n",
    "# no files with the name 'titanic' while the chatbot gave solutions such as to \n",
    "# check file names and extensions etc.\n",
    "#8.3.iii by doing this i get the same error as 8.3.i where it is easier to use\n",
    "# a chatbot to resolve\n",
    "#8.3.iv it is still easier using chatbot which gave me the correct code \n",
    "# immediately while i had to loook through a few google sites to find the \n",
    "# solution\n",
    "#8.3.v chatbot is easier as it gave the correct code immediately while google\n",
    "# did not have any examples of the specific problem\n",
    "#8.3.vi chatbot was easier it already knew the answer in the context of code\n",
    "# while google could not find the answer to the problem\n",
    "#8.3.vii chatbot was able to solve the problem but google wasnt\n",
    "#9 somewhat\n",
    "# chatgpt links https://chatgpt.com/share/366e3ae3-fbb5-488f-8364-ab2b077e1c4e\n",
    "#               https://chatgpt.com/share/c7ce1653-2654-4f46-a21a-d508b97a1f86\n",
    "# Summary:\n",
    "#Using df.shape and df.describe():\n",
    "#\n",
    "#df.shape: Provides the dimensions (rows, columns) of the DataFrame.\n",
    "#df.describe(): Gives summary statistics (like count, mean, min, max) for numerical columns in the DataFrame.\n",
    "#Printing a Subset of Data:\n",
    "#\n",
    "#df.head(n): Prints the first n rows of the DataFrame.\n",
    "#df.tail(n): Prints the last n rows of the DataFrame.\n",
    "#Slicing: df[start:end] prints rows from index start to end-1.\n",
    "#Checking Missing Data:\n",
    "#\n",
    "#df.isnull(): Detects missing values in the DataFrame.\n",
    "#df.dropna(): Removes rows with missing values. You can use inplace=True to modify the DataFrame directly or provide specific parameters to control which rows are dropped.\n",
    "#Using df.groupby(\"col1\")[\"col2\"].describe():\n",
    "\n",
    "Groups the DataFrame by the unique values in \"col1\" and provides descriptive statistics for \"col2\" within each group.\n",
    "Handling Errors:\n",
    "\n",
    "NameError: name 'pd' is not defined: Make sure to import pandas as pd using import pandas as pd.\n",
    "FileNotFoundError: Ensure the file path is correct and the file exists.\n",
    "SyntaxError: incomplete input: Check for missing parentheses or incomplete statements.\n",
    "AttributeError: Ensure method names are spelled correctly (describe() not describle).\n",
    "KeyError: Verify the column name exists in the DataFrame and is spelled correctly.\n",
    "NameError: name 'sex' is not defined: Use column names as strings within square brackets (e.g., df['Sex']).\n",
    "This summary covers the key points discussed and provides solutions to common errors and operations you might perform with a pandas DataFrame"
   ]
  },
  {
   "cell_type": "code",
   "execution_count": null,
   "id": "f1789219-f172-4240-b653-41d2b91ee9b3",
   "metadata": {},
   "outputs": [],
   "source": []
  }
 ],
 "metadata": {
  "kernelspec": {
   "display_name": "Python 3 (ipykernel)",
   "language": "python",
   "name": "python3"
  },
  "language_info": {
   "codemirror_mode": {
    "name": "ipython",
    "version": 3
   },
   "file_extension": ".py",
   "mimetype": "text/x-python",
   "name": "python",
   "nbconvert_exporter": "python",
   "pygments_lexer": "ipython3",
   "version": "3.11.6"
  }
 },
 "nbformat": 4,
 "nbformat_minor": 5
}
