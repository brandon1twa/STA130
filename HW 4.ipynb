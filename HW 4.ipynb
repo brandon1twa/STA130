{
 "cells": [
  {
   "cell_type": "code",
   "execution_count": null,
   "id": "1fd22700",
   "metadata": {},
   "outputs": [],
   "source": [
    "from IPython.display import YouTubeVideo\n",
    "YouTubeVideo('Xz0x-8-cgaQ', width=800, height=500)"
   ]
  },
  {
   "cell_type": "markdown",
   "id": "bc87b604",
   "metadata": {},
   "source": [
    "1. the difference between the standard deviation (sd) and the standard deviation of the mean (sem) is that the sd is a calculation of the average variability between data points and the mean, and the sem  is the variability between the sample means and the true population mean. for example, given a data set you can calculate the mean and use an equation to determine the average amount data points strays from the mean, if you were to bootstrap the data set you would get a collection of means, in which you could use to determine an estimate of the true population mean, and then you could determine the sem which is the average amount the sample means stray from the true population mean."
   ]
  },
  {
   "cell_type": "markdown",
   "id": "d26077e7",
   "metadata": {},
   "source": [
    "2. to create a 95% confidence interval, you can use the standard error of the mean. after calculating the sem, the confidence interval would be roughly 2 times the sem from the sample mean. the interval can be written (confidence interval) = (sample mean) ± (2 x sem)"
   ]
  },
  {
   "cell_type": "markdown",
   "id": "14951be0",
   "metadata": {},
   "source": [
    "3. alternatively we can create 95% bootstrapped confidence interval by just taking an interval that covers 95% of the bootstrapped means. this means if you arrange the sample means in ascending order you can identify the 2.5th percentile and the 97.6th percentile and that interval is a 95% confidence interval."
   ]
  },
  {
   "cell_type": "markdown",
   "id": "90c28a58",
   "metadata": {},
   "source": [
    "4. "
   ]
  },
  {
   "cell_type": "code",
   "execution_count": 2,
   "id": "293055dc",
   "metadata": {},
   "outputs": [
    {
     "data": {
      "text/html": [
       "<div>\n",
       "<style scoped>\n",
       "    .dataframe tbody tr th:only-of-type {\n",
       "        vertical-align: middle;\n",
       "    }\n",
       "\n",
       "    .dataframe tbody tr th {\n",
       "        vertical-align: top;\n",
       "    }\n",
       "\n",
       "    .dataframe thead th {\n",
       "        text-align: right;\n",
       "    }\n",
       "</style>\n",
       "<table border=\"1\" class=\"dataframe\">\n",
       "  <thead>\n",
       "    <tr style=\"text-align: right;\">\n",
       "      <th></th>\n",
       "      <th>species</th>\n",
       "      <th>island</th>\n",
       "      <th>bill_length_mm</th>\n",
       "      <th>bill_depth_mm</th>\n",
       "      <th>flipper_length_mm</th>\n",
       "      <th>body_mass_g</th>\n",
       "      <th>sex</th>\n",
       "    </tr>\n",
       "  </thead>\n",
       "  <tbody>\n",
       "    <tr>\n",
       "      <th>0</th>\n",
       "      <td>Adelie</td>\n",
       "      <td>Torgersen</td>\n",
       "      <td>39.1</td>\n",
       "      <td>18.7</td>\n",
       "      <td>181.0</td>\n",
       "      <td>3750.0</td>\n",
       "      <td>MALE</td>\n",
       "    </tr>\n",
       "    <tr>\n",
       "      <th>1</th>\n",
       "      <td>Adelie</td>\n",
       "      <td>Torgersen</td>\n",
       "      <td>39.5</td>\n",
       "      <td>17.4</td>\n",
       "      <td>186.0</td>\n",
       "      <td>3800.0</td>\n",
       "      <td>FEMALE</td>\n",
       "    </tr>\n",
       "    <tr>\n",
       "      <th>2</th>\n",
       "      <td>Adelie</td>\n",
       "      <td>Torgersen</td>\n",
       "      <td>40.3</td>\n",
       "      <td>18.0</td>\n",
       "      <td>195.0</td>\n",
       "      <td>3250.0</td>\n",
       "      <td>FEMALE</td>\n",
       "    </tr>\n",
       "    <tr>\n",
       "      <th>3</th>\n",
       "      <td>Adelie</td>\n",
       "      <td>Torgersen</td>\n",
       "      <td>NaN</td>\n",
       "      <td>NaN</td>\n",
       "      <td>NaN</td>\n",
       "      <td>NaN</td>\n",
       "      <td>NaN</td>\n",
       "    </tr>\n",
       "    <tr>\n",
       "      <th>4</th>\n",
       "      <td>Adelie</td>\n",
       "      <td>Torgersen</td>\n",
       "      <td>36.7</td>\n",
       "      <td>19.3</td>\n",
       "      <td>193.0</td>\n",
       "      <td>3450.0</td>\n",
       "      <td>FEMALE</td>\n",
       "    </tr>\n",
       "    <tr>\n",
       "      <th>...</th>\n",
       "      <td>...</td>\n",
       "      <td>...</td>\n",
       "      <td>...</td>\n",
       "      <td>...</td>\n",
       "      <td>...</td>\n",
       "      <td>...</td>\n",
       "      <td>...</td>\n",
       "    </tr>\n",
       "    <tr>\n",
       "      <th>339</th>\n",
       "      <td>Gentoo</td>\n",
       "      <td>Biscoe</td>\n",
       "      <td>NaN</td>\n",
       "      <td>NaN</td>\n",
       "      <td>NaN</td>\n",
       "      <td>NaN</td>\n",
       "      <td>NaN</td>\n",
       "    </tr>\n",
       "    <tr>\n",
       "      <th>340</th>\n",
       "      <td>Gentoo</td>\n",
       "      <td>Biscoe</td>\n",
       "      <td>46.8</td>\n",
       "      <td>14.3</td>\n",
       "      <td>215.0</td>\n",
       "      <td>4850.0</td>\n",
       "      <td>FEMALE</td>\n",
       "    </tr>\n",
       "    <tr>\n",
       "      <th>341</th>\n",
       "      <td>Gentoo</td>\n",
       "      <td>Biscoe</td>\n",
       "      <td>50.4</td>\n",
       "      <td>15.7</td>\n",
       "      <td>222.0</td>\n",
       "      <td>5750.0</td>\n",
       "      <td>MALE</td>\n",
       "    </tr>\n",
       "    <tr>\n",
       "      <th>342</th>\n",
       "      <td>Gentoo</td>\n",
       "      <td>Biscoe</td>\n",
       "      <td>45.2</td>\n",
       "      <td>14.8</td>\n",
       "      <td>212.0</td>\n",
       "      <td>5200.0</td>\n",
       "      <td>FEMALE</td>\n",
       "    </tr>\n",
       "    <tr>\n",
       "      <th>343</th>\n",
       "      <td>Gentoo</td>\n",
       "      <td>Biscoe</td>\n",
       "      <td>49.9</td>\n",
       "      <td>16.1</td>\n",
       "      <td>213.0</td>\n",
       "      <td>5400.0</td>\n",
       "      <td>MALE</td>\n",
       "    </tr>\n",
       "  </tbody>\n",
       "</table>\n",
       "<p>344 rows × 7 columns</p>\n",
       "</div>"
      ],
      "text/plain": [
       "    species     island  bill_length_mm  bill_depth_mm  flipper_length_mm  \\\n",
       "0    Adelie  Torgersen            39.1           18.7              181.0   \n",
       "1    Adelie  Torgersen            39.5           17.4              186.0   \n",
       "2    Adelie  Torgersen            40.3           18.0              195.0   \n",
       "3    Adelie  Torgersen             NaN            NaN                NaN   \n",
       "4    Adelie  Torgersen            36.7           19.3              193.0   \n",
       "..      ...        ...             ...            ...                ...   \n",
       "339  Gentoo     Biscoe             NaN            NaN                NaN   \n",
       "340  Gentoo     Biscoe            46.8           14.3              215.0   \n",
       "341  Gentoo     Biscoe            50.4           15.7              222.0   \n",
       "342  Gentoo     Biscoe            45.2           14.8              212.0   \n",
       "343  Gentoo     Biscoe            49.9           16.1              213.0   \n",
       "\n",
       "     body_mass_g     sex  \n",
       "0         3750.0    MALE  \n",
       "1         3800.0  FEMALE  \n",
       "2         3250.0  FEMALE  \n",
       "3            NaN     NaN  \n",
       "4         3450.0  FEMALE  \n",
       "..           ...     ...  \n",
       "339          NaN     NaN  \n",
       "340       4850.0  FEMALE  \n",
       "341       5750.0    MALE  \n",
       "342       5200.0  FEMALE  \n",
       "343       5400.0    MALE  \n",
       "\n",
       "[344 rows x 7 columns]"
      ]
     },
     "execution_count": 2,
     "metadata": {},
     "output_type": "execute_result"
    }
   ],
   "source": [
    "import pandas as pd\n",
    "import numpy as np\n",
    "df = pd.read_csv(\"https://raw.githubusercontent.com/mwaskom/seaborn-data/master/penguins.csv\")\n",
    "df"
   ]
  },
  {
   "cell_type": "code",
   "execution_count": 3,
   "id": "6884c6c0",
   "metadata": {},
   "outputs": [
    {
     "name": "stdout",
     "output_type": "stream",
     "text": [
      "95% Bootstrap Confidence Interval for Body Mass: (4116.008771929824, 4285.604897660819)\n"
     ]
    }
   ],
   "source": [
    "# Remove missing values from the 'body_mass_g' column\n",
    "body_mass = df['body_mass_g'].dropna()\n",
    "\n",
    "# Function to perform bootstrap resampling and calculate the confidence interval\n",
    "def bootstrap_confidence_interval(data, num_bootstrap_samples=10000, statistic=np.mean, ci_percentile=95):\n",
    "    bootstrap_means = []\n",
    "    \n",
    "    # Bootstrap resampling\n",
    "    for _ in range(num_bootstrap_samples):\n",
    "        bootstrap_sample = np.random.choice(data, size=len(data), replace=True)\n",
    "        bootstrap_stat = statistic(bootstrap_sample)\n",
    "        bootstrap_means.append(bootstrap_stat)\n",
    "    \n",
    "    # Calculate the percentiles for the confidence interval\n",
    "    lower_bound = np.percentile(bootstrap_means, (100 - ci_percentile) / 2)\n",
    "    upper_bound = np.percentile(bootstrap_means, 100 - (100 - ci_percentile) / 2)\n",
    "    \n",
    "    return lower_bound, upper_bound\n",
    "\n",
    "# Calculate the 95% bootstrap confidence interval for the mean of body mass\n",
    "body_mass_ci = bootstrap_confidence_interval(body_mass, statistic=np.mean)\n",
    "print(f\"95% Bootstrap Confidence Interval for Body Mass: {body_mass_ci}\")\n"
   ]
  },
  {
   "cell_type": "markdown",
   "id": "64b0def2",
   "metadata": {},
   "source": [
    "this code can be modified to show the population median just by changing the statistic=np.mean to statistic=np.median, defining the median and changing the upper and lower bounds to np.percentile(bootstrap_medians, ...)"
   ]
  },
  {
   "cell_type": "code",
   "execution_count": 8,
   "id": "34a20a42",
   "metadata": {},
   "outputs": [
    {
     "name": "stdout",
     "output_type": "stream",
     "text": [
      "95% Bootstrap Confidence Interval for Body Mass: (3900.0, 4200.0)\n"
     ]
    }
   ],
   "source": [
    "body_mass = df['body_mass_g'].dropna()\n",
    "\n",
    "def bootstrap_confidence_interval(data, num_bootstrap_samples=10000, statistic=np.median, ci_percentile=95):\n",
    "    bootstrap_medians = []\n",
    "    \n",
    "    for _ in range(num_bootstrap_samples):\n",
    "        bootstrap_sample = np.random.choice(data, size=len(data), replace=True)\n",
    "        bootstrap_stat = statistic(bootstrap_sample)\n",
    "        bootstrap_medians.append(bootstrap_stat)\n",
    "    \n",
    "    lower_bound = np.percentile(bootstrap_medians, (100 - ci_percentile) / 2)\n",
    "    upper_bound = np.percentile(bootstrap_medians, 100 - (100 - ci_percentile) / 2)\n",
    "    \n",
    "    return lower_bound, upper_bound\n",
    "\n",
    "body_mass_ci = bootstrap_confidence_interval(body_mass, statistic=np.median)\n",
    "print(f\"95% Bootstrap Confidence Interval for Body Mass: {body_mass_ci}\")\n"
   ]
  },
  {
   "cell_type": "markdown",
   "id": "abfdd891",
   "metadata": {},
   "source": [
    "5. population parameter and sample statistics are different in that the population parameter is the true value of a characteristic for the entire population, however a sample statistic is calculated to estimate the population parameter by bootstrapping. its important to differentiate them because in many cases we dont know the population parameter for certain, so we cannot say its characteristics, we can only estimate it."
   ]
  },
  {
   "cell_type": "markdown",
   "id": "9f4ad008",
   "metadata": {},
   "source": [
    "6.1 bootstrapping is the process in which we have a sample of data, and we take the sample and create another set of data, of the same size and only using the data in the original sample, we do that by taking random elements in the sample (with replacement) to create the new set (so the new set will have some duplicates or some missing points compared to the original). and with the new set we can take the information like mean, median, etc... and then we do that many many times in order to have a large number of means, or medians such that we can create an estimate of characteristics of the entire population.\n",
    "\n",
    "6.2 in many cases, we dont know the data of the entire population, so we cant give a definite characteristic like mean or median for the whole thing. bootstrapping allows us to estimate a populations characteristics by creating a bunch of sets (from one sample) that all reflect the population which is very helpful.\n",
    "\n",
    "6.3 you would use bootstrapping to create a number of means and calculate the 95% confidence interval where the the population mean lies (which case most of the time it does) and then check if your hypothesis was correct (whether its in the confidence interval or not)."
   ]
  },
  {
   "cell_type": "markdown",
   "id": "eeb031fe",
   "metadata": {},
   "source": [
    "7. the confidence interval is where the population mean most often is found, if it were to overlap 0 then its possible that the population mean is 0, even if the sample mean itself is not 0, that just means more often then not its found closer to the sample mean, but close does not mean the population mean IS the sample mean. therefore you cannot rule out 0 as a possibility of the population mean if the confidence interval overlaps it. consequently, if the confidence interval does not overlap 0 you can rule it out as the population mean, since most of the time, the population mean is found within the interval."
   ]
  },
  {
   "cell_type": "markdown",
   "id": "309c8710",
   "metadata": {},
   "source": [
    "8."
   ]
  },
  {
   "cell_type": "code",
   "execution_count": 26,
   "id": "d1a14daa",
   "metadata": {},
   "outputs": [
    {
     "data": {
      "text/html": [
       "<div>\n",
       "<style scoped>\n",
       "    .dataframe tbody tr th:only-of-type {\n",
       "        vertical-align: middle;\n",
       "    }\n",
       "\n",
       "    .dataframe tbody tr th {\n",
       "        vertical-align: top;\n",
       "    }\n",
       "\n",
       "    .dataframe thead th {\n",
       "        text-align: right;\n",
       "    }\n",
       "</style>\n",
       "<table border=\"1\" class=\"dataframe\">\n",
       "  <thead>\n",
       "    <tr style=\"text-align: right;\">\n",
       "      <th></th>\n",
       "      <th>PatientID</th>\n",
       "      <th>Age</th>\n",
       "      <th>Gender</th>\n",
       "      <th>InitialHealthScore</th>\n",
       "      <th>FinalHealthScore</th>\n",
       "    </tr>\n",
       "  </thead>\n",
       "  <tbody>\n",
       "    <tr>\n",
       "      <th>0</th>\n",
       "      <td>1</td>\n",
       "      <td>45</td>\n",
       "      <td>M</td>\n",
       "      <td>84</td>\n",
       "      <td>86</td>\n",
       "    </tr>\n",
       "    <tr>\n",
       "      <th>1</th>\n",
       "      <td>2</td>\n",
       "      <td>34</td>\n",
       "      <td>F</td>\n",
       "      <td>78</td>\n",
       "      <td>86</td>\n",
       "    </tr>\n",
       "    <tr>\n",
       "      <th>2</th>\n",
       "      <td>3</td>\n",
       "      <td>29</td>\n",
       "      <td>M</td>\n",
       "      <td>83</td>\n",
       "      <td>80</td>\n",
       "    </tr>\n",
       "    <tr>\n",
       "      <th>3</th>\n",
       "      <td>4</td>\n",
       "      <td>52</td>\n",
       "      <td>F</td>\n",
       "      <td>81</td>\n",
       "      <td>86</td>\n",
       "    </tr>\n",
       "    <tr>\n",
       "      <th>4</th>\n",
       "      <td>5</td>\n",
       "      <td>37</td>\n",
       "      <td>M</td>\n",
       "      <td>81</td>\n",
       "      <td>84</td>\n",
       "    </tr>\n",
       "    <tr>\n",
       "      <th>5</th>\n",
       "      <td>6</td>\n",
       "      <td>41</td>\n",
       "      <td>F</td>\n",
       "      <td>80</td>\n",
       "      <td>86</td>\n",
       "    </tr>\n",
       "    <tr>\n",
       "      <th>6</th>\n",
       "      <td>7</td>\n",
       "      <td>33</td>\n",
       "      <td>M</td>\n",
       "      <td>79</td>\n",
       "      <td>86</td>\n",
       "    </tr>\n",
       "    <tr>\n",
       "      <th>7</th>\n",
       "      <td>8</td>\n",
       "      <td>48</td>\n",
       "      <td>F</td>\n",
       "      <td>85</td>\n",
       "      <td>82</td>\n",
       "    </tr>\n",
       "    <tr>\n",
       "      <th>8</th>\n",
       "      <td>9</td>\n",
       "      <td>26</td>\n",
       "      <td>M</td>\n",
       "      <td>76</td>\n",
       "      <td>83</td>\n",
       "    </tr>\n",
       "    <tr>\n",
       "      <th>9</th>\n",
       "      <td>10</td>\n",
       "      <td>39</td>\n",
       "      <td>F</td>\n",
       "      <td>83</td>\n",
       "      <td>84</td>\n",
       "    </tr>\n",
       "  </tbody>\n",
       "</table>\n",
       "</div>"
      ],
      "text/plain": [
       "   PatientID  Age Gender  InitialHealthScore  FinalHealthScore\n",
       "0          1   45      M                  84                86\n",
       "1          2   34      F                  78                86\n",
       "2          3   29      M                  83                80\n",
       "3          4   52      F                  81                86\n",
       "4          5   37      M                  81                84\n",
       "5          6   41      F                  80                86\n",
       "6          7   33      M                  79                86\n",
       "7          8   48      F                  85                82\n",
       "8          9   26      M                  76                83\n",
       "9         10   39      F                  83                84"
      ]
     },
     "execution_count": 26,
     "metadata": {},
     "output_type": "execute_result"
    }
   ],
   "source": [
    "import pandas as pd\n",
    "import numpy as np\n",
    "\n",
    "# Create a DataFrame from the given data\n",
    "data = {\n",
    "    \"PatientID\": [1, 2, 3, 4, 5, 6, 7, 8, 9, 10],\n",
    "    \"Age\": [45, 34, 29, 52, 37, 41, 33, 48, 26, 39],\n",
    "    \"Gender\": [\"M\", \"F\", \"M\", \"F\", \"M\", \"F\", \"M\", \"F\", \"M\", \"F\"],\n",
    "    \"InitialHealthScore\": [84, 78, 83, 81, 81, 80, 79, 85, 76, 83],\n",
    "    \"FinalHealthScore\": [86, 86, 80, 86, 84, 86, 86, 82, 83, 84],\n",
    "}\n",
    "\n",
    "df = pd.DataFrame(data)\n",
    "df"
   ]
  },
  {
   "cell_type": "code",
   "execution_count": 10,
   "id": "49b42946",
   "metadata": {},
   "outputs": [
    {
     "data": {
      "text/html": [
       "<div>\n",
       "<style scoped>\n",
       "    .dataframe tbody tr th:only-of-type {\n",
       "        vertical-align: middle;\n",
       "    }\n",
       "\n",
       "    .dataframe tbody tr th {\n",
       "        vertical-align: top;\n",
       "    }\n",
       "\n",
       "    .dataframe thead th {\n",
       "        text-align: right;\n",
       "    }\n",
       "</style>\n",
       "<table border=\"1\" class=\"dataframe\">\n",
       "  <thead>\n",
       "    <tr style=\"text-align: right;\">\n",
       "      <th></th>\n",
       "      <th>PatientID</th>\n",
       "      <th>Age</th>\n",
       "      <th>InitialHealthScore</th>\n",
       "      <th>FinalHealthScore</th>\n",
       "    </tr>\n",
       "  </thead>\n",
       "  <tbody>\n",
       "    <tr>\n",
       "      <th>count</th>\n",
       "      <td>10.00000</td>\n",
       "      <td>10.00000</td>\n",
       "      <td>10.000000</td>\n",
       "      <td>10.000000</td>\n",
       "    </tr>\n",
       "    <tr>\n",
       "      <th>mean</th>\n",
       "      <td>5.50000</td>\n",
       "      <td>38.40000</td>\n",
       "      <td>81.000000</td>\n",
       "      <td>84.300000</td>\n",
       "    </tr>\n",
       "    <tr>\n",
       "      <th>std</th>\n",
       "      <td>3.02765</td>\n",
       "      <td>8.30261</td>\n",
       "      <td>2.828427</td>\n",
       "      <td>2.110819</td>\n",
       "    </tr>\n",
       "    <tr>\n",
       "      <th>min</th>\n",
       "      <td>1.00000</td>\n",
       "      <td>26.00000</td>\n",
       "      <td>76.000000</td>\n",
       "      <td>80.000000</td>\n",
       "    </tr>\n",
       "    <tr>\n",
       "      <th>25%</th>\n",
       "      <td>3.25000</td>\n",
       "      <td>33.25000</td>\n",
       "      <td>79.250000</td>\n",
       "      <td>83.250000</td>\n",
       "    </tr>\n",
       "    <tr>\n",
       "      <th>50%</th>\n",
       "      <td>5.50000</td>\n",
       "      <td>38.00000</td>\n",
       "      <td>81.000000</td>\n",
       "      <td>85.000000</td>\n",
       "    </tr>\n",
       "    <tr>\n",
       "      <th>75%</th>\n",
       "      <td>7.75000</td>\n",
       "      <td>44.00000</td>\n",
       "      <td>83.000000</td>\n",
       "      <td>86.000000</td>\n",
       "    </tr>\n",
       "    <tr>\n",
       "      <th>max</th>\n",
       "      <td>10.00000</td>\n",
       "      <td>52.00000</td>\n",
       "      <td>85.000000</td>\n",
       "      <td>86.000000</td>\n",
       "    </tr>\n",
       "  </tbody>\n",
       "</table>\n",
       "</div>"
      ],
      "text/plain": [
       "       PatientID       Age  InitialHealthScore  FinalHealthScore\n",
       "count   10.00000  10.00000           10.000000         10.000000\n",
       "mean     5.50000  38.40000           81.000000         84.300000\n",
       "std      3.02765   8.30261            2.828427          2.110819\n",
       "min      1.00000  26.00000           76.000000         80.000000\n",
       "25%      3.25000  33.25000           79.250000         83.250000\n",
       "50%      5.50000  38.00000           81.000000         85.000000\n",
       "75%      7.75000  44.00000           83.000000         86.000000\n",
       "max     10.00000  52.00000           85.000000         86.000000"
      ]
     },
     "execution_count": 10,
     "metadata": {},
     "output_type": "execute_result"
    }
   ],
   "source": [
    "df.describe()"
   ]
  },
  {
   "cell_type": "markdown",
   "id": "4babee88",
   "metadata": {
    "slideshow": {
     "slide_type": "slide"
    }
   },
   "source": [
    "INTRO:\n",
    "- a null hypothesis of \"no effect\" in this context would be where there is no net change in health score after taking the vaccine"
   ]
  },
  {
   "cell_type": "code",
   "execution_count": 34,
   "id": "178181dc",
   "metadata": {},
   "outputs": [
    {
     "data": {
      "image/png": "[encoded data removed]"
     },
     "metadata": {},
     "output_type": "display_data"
    }
   ],
   "source": [
    "import plotly.express as px\n",
    "df = pd.DataFrame(data)\n",
    "\n",
    "df['NetChange'] = df['FinalHealthScore'] - df['InitialHealthScore']\n",
    "\n",
    "# Create a histogram of net change in health score\n",
    "fig = px.histogram(df, x='NetChange', labels={'NetChange': 'Net Change in Health Score'}, title='Histogram of Net Change in Health Score', nbins=12)\n",
    "\n",
    "mean_net_change = df['NetChange'].mean()\n",
    "fig.add_vline(x=mean_net_change, line_width=2, line_dash=\"dash\", line_color=\"red\", annotation_text=\"Mean\", annotation_position=\"top\")\n",
    "\n",
    "# Show the figure\n",
    "fig.show(renderer=\"png\")"
   ]
  },
  {
   "cell_type": "markdown",
   "id": "ce96e6f8",
   "metadata": {},
   "source": [
    "this is the histogram showing the net change in health score with a red line to represent the mean"
   ]
  },
  {
   "cell_type": "code",
   "execution_count": 35,
   "id": "67f31c79",
   "metadata": {},
   "outputs": [
    {
     "data": {
      "image/png": "[encoded data removed]"
     },
     "metadata": {},
     "output_type": "display_data"
    }
   ],
   "source": [
    "import plotly.graph_objects as go\n",
    "\n",
    "# Number of bootstrap samples\n",
    "n_bootstrap = 10000\n",
    "\n",
    "# Function to perform bootstrap resampling\n",
    "def bootstrap_means(data, n_samples):\n",
    "    boot_means = []\n",
    "    for _ in range(n_samples):\n",
    "        sample = np.random.choice(data, size=len(data), replace=True)\n",
    "        boot_means.append(np.mean(sample))\n",
    "    return boot_means\n",
    "\n",
    "# Perform bootstrapping\n",
    "boot_means = bootstrap_means(df['NetChange'], n_bootstrap)\n",
    "\n",
    "# Calculate the mean of the bootstrap sample means\n",
    "mean_bootstrap = np.mean(boot_means)\n",
    "\n",
    "# Calculate the standard error of the mean (SEM) based on the original sample\n",
    "sem = df['NetChange'].std() / np.sqrt(len(df['NetChange']))\n",
    "\n",
    "# Calculate the lower and upper bounds of the SEM range\n",
    "sem_lower = mean_bootstrap - 1 * sem\n",
    "sem_upper = mean_bootstrap + 1 * sem\n",
    "\n",
    "# Create a histogram of the bootstrap sample means\n",
    "fig = px.histogram(boot_means, nbins=50, labels={'value': 'Bootstrap Sample Means'}, title='Bootstrap Distribution of Net Change in Health Score')\n",
    "\n",
    "# Add a vertical line for the average bootstrap mean\n",
    "fig.add_vline(x=mean_bootstrap, line_width=2, line_dash=\"dash\", line_color=\"red\", annotation_text=\"Mean\", annotation_position=\"top\")\n",
    "\n",
    "# Highlight the SEM interval with a shaded area\n",
    "fig.add_vrect(x0=sem_lower, x1=sem_upper, fillcolor=\"green\", opacity=0.25, line_width=0, annotation_text=\"SEM Range\", annotation_position=\"top left\")\n",
    "\n",
    "# Show the figure\n",
    "fig.show(renderer=\"png\")"
   ]
  },
  {
   "cell_type": "markdown",
   "id": "a0cc97d1",
   "metadata": {},
   "source": [
    "this figure shows the mean of the bootstrapped sample and also highlights the area containing the standard error of the mean"
   ]
  },
  {
   "cell_type": "code",
   "execution_count": 30,
   "id": "7a0534cd",
   "metadata": {},
   "outputs": [
    {
     "name": "stdout",
     "output_type": "stream",
     "text": [
      "Confidence Interval (Sample Mean ± 2 * SEM): [0.75, 5.85]\n"
     ]
    }
   ],
   "source": [
    "# Calculate the sample mean\n",
    "sample_mean = df['NetChange'].mean()\n",
    "\n",
    "# Calculate the standard error of the mean (SEM)\n",
    "sem = df['NetChange'].std() / np.sqrt(len(df['NetChange']))\n",
    "\n",
    "# Calculate the confidence interval using the formula: sample mean ± 2 * SEM\n",
    "ci_lower_sem = sample_mean - 2 * sem\n",
    "ci_upper_sem = sample_mean + 2 * sem\n",
    "\n",
    "# Print the confidence interval\n",
    "print(f\"Confidence Interval (Sample Mean ± 2 * SEM): [{ci_lower_sem:.2f}, {ci_upper_sem:.2f}]\")"
   ]
  },
  {
   "cell_type": "code",
   "execution_count": 37,
   "id": "9d62e93c",
   "metadata": {},
   "outputs": [
    {
     "data": {
      "image/png": "[encoded data removed]"
     },
     "metadata": {},
     "output_type": "display_data"
    }
   ],
   "source": [
    "# Number of bootstrap samples\n",
    "n_bootstrap = 10000\n",
    "\n",
    "# Function to perform bootstrap resampling\n",
    "def bootstrap_means(data, n_samples):\n",
    "    boot_means = []\n",
    "    for _ in range(n_samples):\n",
    "        sample = np.random.choice(data, size=len(data), replace=True)\n",
    "        boot_means.append(np.mean(sample))\n",
    "    return boot_means\n",
    "\n",
    "# Perform bootstrapping\n",
    "boot_means = bootstrap_means(df['NetChange'], n_bootstrap)\n",
    "\n",
    "# Calculate the sample mean from the original data\n",
    "sample_mean = df['NetChange'].mean()\n",
    "\n",
    "# Calculate the standard error of the mean (SEM) based on the bootstrap sample means\n",
    "sem_bootstrap = np.std(boot_means)\n",
    "\n",
    "# Calculate the confidence interval using the original sample mean and SEM (Sample Mean ± 2 * SEM)\n",
    "ci_lower = sample_mean - 2 * sem_bootstrap\n",
    "ci_upper = sample_mean + 2 * sem_bootstrap\n",
    "\n",
    "# Create a histogram of the bootstrap sample means\n",
    "fig = px.histogram(boot_means, nbins=50, labels={'value': 'Bootstrap Sample Means'}, title='Bootstrap Distribution of Net Change in Health Score')\n",
    "\n",
    "# Add a vertical line for the original sample mean\n",
    "fig.add_vline(x=sample_mean, line_width=2, line_dash=\"dash\", line_color=\"red\", annotation_text=\"Sample Mean\", annotation_position=\"top\")\n",
    "\n",
    "# Highlight the confidence interval based on the original sample mean with a shaded area\n",
    "fig.add_vrect(x0=ci_lower, x1=ci_upper, fillcolor=\"green\", opacity=0.25, line_width=0, annotation_text=\"95% CI\", annotation_position=\"top left\")\n",
    "\n",
    "# Show the figure\n",
    "fig.show(renderer=\"png\")"
   ]
  },
  {
   "cell_type": "markdown",
   "id": "71ecc10e",
   "metadata": {},
   "source": [
    "Conclusion:\n",
    "this figure shows the confidence interval on a bootstrapped data set, as been seen the 0 lies outside of the confidence interval, this means that it is safe to assume that vaccine has a net positive effect on the patient."
   ]
  },
  {
   "cell_type": "markdown",
   "id": "4bc02e34",
   "metadata": {},
   "source": [
    "9. somewhat (only chatgpt)"
   ]
  },
  {
   "cell_type": "markdown",
   "id": "faad8a0e",
   "metadata": {},
   "source": [
    "chat bot summaries:\n",
    "https://chatgpt.com/share/66fb7d42-ae18-8008-96e1-5212f1b1da45\n",
    "Summary\n",
    "In this exercise, we explored how to create confidence intervals using bootstrapping and visualized the results with histograms.\n",
    "\n",
    "1. Bootstrap Confidence Interval (CI):\n",
    "\n",
    "We performed bootstrapping on a dataset that included net changes in health scores. By resampling the data 10,000 times, we computed the means of the bootstrapped samples.\n",
    "To calculate the 95% confidence interval, we used the 2.5th and 97.5th percentiles of the bootstrapped means and highlighted this interval on a histogram of the bootstrapped sample means.\n",
    "\n",
    "2. SEM-Based Confidence Interval:\n",
    "\n",
    "We also computed a confidence interval using the original sample mean and the standard error of the mean (SEM) derived from the bootstrapped sample means. The formula used was \n",
    "Sample Mean±2×SEM.\n",
    "This interval was then highlighted on a histogram of the bootstrap distribution, with a vertical line representing the original sample mean.\n",
    "\n",
    "3. Comparing CIs:\n",
    "\n",
    "We discussed the difference between a confidence interval derived from bootstrapped means (percentile method) and one calculated using the SEM, emphasizing that the former relies on empirical resampling while the latter is based on theoretical assumptions of the standard error.\n",
    "In both cases, visualizations were created using Plotly to clearly represent the intervals and the distribution of bootstrapped sample means, offering insights into the plausible range of the population parameter based on the sample data.\n",
    "\n",
    "This summary encapsulates the work done on bootstrapping, calculating confidence intervals, and visualizing results through histograms."
   ]
  }
 ],
 "metadata": {
  "kernelspec": {
   "display_name": "Python 3 (ipykernel)",
   "language": "python",
   "name": "python3"
  },
  "language_info": {
   "codemirror_mode": {
    "name": "ipython",
    "version": 3
   },
   "file_extension": ".py",
   "mimetype": "text/x-python",
   "name": "python",
   "nbconvert_exporter": "python",
   "pygments_lexer": "ipython3",
   "version": "3.11.6"
  }
 },
 "nbformat": 4,
 "nbformat_minor": 5
}
