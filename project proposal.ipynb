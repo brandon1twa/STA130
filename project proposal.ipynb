{
 "cells": [
  {
   "cell_type": "markdown",
   "id": "0aa465c9",
   "metadata": {},
   "source": [
    "1. \n",
    "\n",
    "Question: Is there correlation between social media usage and feelings of loneliness or isolation? I would like to study the amount of social media usage and feelings of loneliness and determine whether or not people who have a higher amount of time on social media also feel more alone.\n",
    "\n",
    "Variables:\n",
    "social media usage ( how many hours a day on social networking apps, how many times a day you visit those apps, how much is it prioritized)\n",
    "Level of loneliness ( how often do you feel isolated or lack companionship, are there enough people you feel close to, have you felt lonely during the week)\n",
    "\n",
    "Method: I'll create histograms showing the spread of social media usage and also the loneliness levels and then show the relationship between those 2 with a scatterplot with social media use on the x-axis and loneliness on the y axis, I can also use box plots showing characteristics of loneliness across different social media usage times. Using all these I will decide whether or not there is a correlation.\n",
    "One assumption is that since everything is self reported, people could have inaccurate answers either because its difficult to remember or because they are painting themselves in a better light\n",
    "\n",
    "Hypothesis: My hypothesis is that higher social media use results in higher feelings of loneliness and isolation, and that social media cannot replace in person social interactions fulfillingly. \n",
    "If the data shows correlation between social media use and loneliness then I could also use a linear regression model to see whether social media has a positive or negative impact. If higher social media use is related to more feelings of loneliness then my hypothesis is correct."
   ]
  },
  {
   "cell_type": "markdown",
   "id": "0a28621e",
   "metadata": {},
   "source": [
    "2.\n",
    "\n",
    "Question: do people who exercise regularly have higher levels of self esteem? The goal for this research question is to determine the impact that exercise has on someone's self esteem, and also to find what kind of exercises and optimal exercise time is best for mental health.\n",
    "\n",
    "Variable: \n",
    "Exercise frequency ( how long is a session, how many sessions a week, group or solo exercise, priority of exercise in a day)\n",
    "Self esteem levels ( how do you feel about your body, self esteem, satisfaction with oneself, state of mental health, self image and comparison to others)\n",
    "\n",
    "Method: first I can show the spread of different types of exercises that people do with a bar graph, show the spread of average time of exercise sessions and how many sessions a week with histograms. Then I can compare the self esteem levels between people who exercise and people who don't. And finally I can show the correlation between workout length and self esteem levels with a scatter plot.\n",
    "An assumption that I have is that the data might not be entirely accurate since someone's exercise schedule can depend week to week. Also that since it is self reported that there might be bias towards themselves.\n",
    "\n",
    "Hypothesis: My hypothesis is that higher exercise frequency is directly related to higher self esteem scores. Those who exercise regularly will be more confident than those who don't. If this is true I will be able to create a linear regression model to find out how much exercise affects self esteem, and also I will see what kinds of exercise and frequency will lead to the overall highest scores.\n"
   ]
  },
  {
   "cell_type": "markdown",
   "id": "c167961e",
   "metadata": {},
   "source": [
    "3.\n",
    "\n",
    "Question: Does being employed correlate to higher levels of stress compared to those who are unemployed? This question will investigate whether or not having a job could make people more stressful since there is more work and pressure, or if people are less stressed with work due to less financial pressures. We can also discover the correlation between hours working during the week and stress levels.\n",
    "\n",
    "Variables: \n",
    "Employment status ( part time or full time, how many days a week, how many hours a week)\n",
    "Stress levels ( how stressed are you at work, how often do you feel anxious and how does that affect you)\n",
    "\n",
    "Method: ill use histograms to show the distribution of average work hours that people have. Then I can compare the average anxiety levels between people who work and people who don't. I can also use box plots to compare the stress scores across different working hours in a week. And finally I can use a scatter plot to show the stress levels compared to the work hours.\n",
    "My assumption is that people accurately report their employment but that there are other factors that contribute to stress which are not controllable.\n",
    "\n",
    "Hypothesis: My hypothesis is that employment is associated with higher stress levels, since more work and less free time generally leads to greater stress. To see the correlation I can use linear regression to find out whether work increases or decreases stress.\n"
   ]
  }
 ],
 "metadata": {
  "kernelspec": {
   "display_name": "Python 3 (ipykernel)",
   "language": "python",
   "name": "python3"
  },
  "language_info": {
   "codemirror_mode": {
    "name": "ipython",
    "version": 3
   },
   "file_extension": ".py",
   "mimetype": "text/x-python",
   "name": "python",
   "nbconvert_exporter": "python",
   "pygments_lexer": "ipython3",
   "version": "3.11.6"
  }
 },
 "nbformat": 4,
 "nbformat_minor": 5
}
